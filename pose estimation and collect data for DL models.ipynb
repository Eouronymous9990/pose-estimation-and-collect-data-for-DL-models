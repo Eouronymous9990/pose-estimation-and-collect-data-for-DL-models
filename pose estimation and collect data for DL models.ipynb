{
 "cells": [
  {
   "cell_type": "code",
   "execution_count": 4,
   "id": "6ccd09b8",
   "metadata": {},
   "outputs": [],
   "source": [
    "import cv2\n",
    "import mediapipe as mp\n",
    "import numpy as np\n",
    "\n",
    "\n",
    "import time\n",
    "import os\n",
    "from datetime import datetime\n"
   ]
  },
  {
   "cell_type": "code",
   "execution_count": 5,
   "id": "83e21be2",
   "metadata": {},
   "outputs": [],
   "source": [
    "mp_pose=mp.solutions.pose\n",
    "pose=mp_pose.Pose()\n",
    "draw=mp.solutions.drawing_utils\n"
   ]
  },
  {
   "cell_type": "code",
   "execution_count": 6,
   "id": "ee6a776c",
   "metadata": {},
   "outputs": [
    {
     "name": "stdout",
     "output_type": "stream",
     "text": [
      "Image has been captured\n",
      "Image has been captured\n",
      "Image has been captured\n",
      "Image has been captured\n",
      "Image has been captured\n",
      "Image has been captured\n",
      "Image has been captured\n",
      "Image has been captured\n",
      "Image has been captured\n",
      "Image has been captured\n",
      "Image has been captured\n"
     ]
    }
   ],
   "source": [
    "cap=cv2.VideoCapture(0)\n",
    "data_file_name = \"dataset-0-0-0-9\"\n",
    "if not os.path.exists(data_file_name):\n",
    "    os.makedirs(data_file_name)\n",
    "\n",
    "while 1 :\n",
    "    ret,frame=cap.read()\n",
    "    if not ret :\n",
    "        break\n",
    "    \n",
    "    img=cv2.cvtColor(frame,cv2.COLOR_BGR2RGB)\n",
    "    \n",
    "    result=pose.process(frame)\n",
    "    \n",
    "    draw.draw_landmarks(frame,result.pose_landmarks,mp_pose.POSE_CONNECTIONS)\n",
    "    \n",
    "    \n",
    "    img=cv2.cvtColor(frame,cv2.COLOR_RGB2BGR)\n",
    "    \n",
    "    #cv2.imshow(\"pose\", frame)\n",
    "    \n",
    "    x,y,z=frame.shape\n",
    "    img=np.zeros([x,y,z])\n",
    "    img.fill(0)\n",
    "    draw.draw_landmarks(img,result.pose_landmarks,mp_pose.POSE_CONNECTIONS)\n",
    "    cv2.imshow(\"extractions\", img)\n",
    "        \n",
    "\n",
    "    \n",
    "    \n",
    "    key = cv2.waitKey(1)\n",
    "    if key == ord(\"s\"):\n",
    "        timee = datetime.now().strftime(\"%Y%m%d%H%M%S\")\n",
    "        screen_name = os.path.join(data_file_name, f\"screen_{timee}.png\")\n",
    "        cv2.imwrite(screen_name, img)\n",
    "        print(\"Image has been captured\")\n",
    "    \n",
    "    elif key ==ord(\"q\"):\n",
    "        break\n",
    "    \n",
    "    \n",
    "cap.release()\n",
    "cv2.destroyAllWindows()\n",
    "    \n"
   ]
  }
 ],
 "metadata": {
  "kernelspec": {
   "display_name": "Python 3 (ipykernel)",
   "language": "python",
   "name": "python3"
  },
  "language_info": {
   "codemirror_mode": {
    "name": "ipython",
    "version": 3
   },
   "file_extension": ".py",
   "mimetype": "text/x-python",
   "name": "python",
   "nbconvert_exporter": "python",
   "pygments_lexer": "ipython3",
   "version": "3.9.13"
  }
 },
 "nbformat": 4,
 "nbformat_minor": 5
}
